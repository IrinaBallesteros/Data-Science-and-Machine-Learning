{
 "cells": [
  {
   "cell_type": "code",
   "execution_count": 1,
   "metadata": {},
   "outputs": [
    {
     "ename": "ModuleNotFoundError",
     "evalue": "No module named 'pandas'",
     "output_type": "error",
     "traceback": [
      "\u001b[0;31m---------------------------------------------------------------------------\u001b[0m",
      "\u001b[0;31mModuleNotFoundError\u001b[0m                       Traceback (most recent call last)",
      "Cell \u001b[0;32mIn[1], line 2\u001b[0m\n\u001b[1;32m      1\u001b[0m \u001b[39m#Loading data\u001b[39;00m\n\u001b[0;32m----> 2\u001b[0m \u001b[39mimport\u001b[39;00m \u001b[39mpandas\u001b[39;00m\n\u001b[1;32m      3\u001b[0m get_ipython()\u001b[39m.\u001b[39msystem(\u001b[39m'\u001b[39m\u001b[39mpip install statsmodels\u001b[39m\u001b[39m'\u001b[39m)\n\u001b[1;32m      4\u001b[0m get_ipython()\u001b[39m.\u001b[39msystem(\u001b[39m'\u001b[39m\u001b[39mwget https://raw.githubusercontent.com/MicrosoftDocs/mslearn-introduction-to-machine-learning/main/graphing.py\u001b[39m\u001b[39m'\u001b[39m)\n",
      "\u001b[0;31mModuleNotFoundError\u001b[0m: No module named 'pandas'"
     ]
    }
   ],
   "source": [
    "#Loading data\n",
    "import pandas\n",
    "!pip install statsmodels\n",
    "!wget https://raw.githubusercontent.com/MicrosoftDocs/mslearn-introduction-to-machine-learning/main/graphing.py\n",
    "!wget https://raw.githubusercontent.com/MicrosoftDocs/mslearn-introduction-to-machine-learning/main/Data/doggy-illness.csv\n",
    "\n",
    "# Convert it into a table using pandas\n",
    "dataset = pandas.read_csv(\"doggy-illness.csv\", delimiter=\"\\t\")\n",
    "\n",
    "# Print the data\n",
    "print(dataset)"
   ]
  },
  {
   "cell_type": "code",
   "execution_count": null,
   "metadata": {},
   "outputs": [],
   "source": [
    "#Data visualization\n",
    "import graphing\n",
    "\n",
    "graphing.histogram(dataset, label_x='age', nbins=10, title=\"Feature\", show=True)\n",
    "graphing.histogram(dataset, label_x='core_temperature', nbins=10, title=\"Label\")\n"
   ]
  },
  {
   "cell_type": "code",
   "execution_count": null,
   "metadata": {},
   "outputs": [],
   "source": [
    "graphing.scatter_2D(dataset, label_x=\"age\", label_y=\"core_temperature\", title='core temperature as a function of age')"
   ]
  },
  {
   "cell_type": "code",
   "execution_count": null,
   "metadata": {},
   "outputs": [],
   "source": [
    "import statsmodels.formula.api as smf\n",
    "import graphing # custom graphing code. See our GitHub repo for details\n",
    "\n",
    "# First, we define our formula using a special syntax\n",
    "# This says that core temperature is explained by age\n",
    "formula = \"core_temperature ~ age\"\n",
    "\n",
    "# Perform linear regression. This method takes care of\n",
    "# the entire fitting procedure for us.\n",
    "model = smf.ols(formula = formula, data = dataset).fit()\n",
    "\n",
    "# Show a graph of the result\n",
    "graphing.scatter_2D(dataset,    label_x=\"age\", \n",
    "                                label_y=\"core_temperature\",\n",
    "                                trendline=lambda x: model.params[1] * x + model.params[0]\n",
    "                                )"
   ]
  },
  {
   "cell_type": "code",
   "execution_count": null,
   "metadata": {},
   "outputs": [],
   "source": [
    "print(\"Intercept:\", model.params[0], \"Slope:\", model.params[1])"
   ]
  },
  {
   "cell_type": "code",
   "execution_count": null,
   "metadata": {},
   "outputs": [],
   "source": [
    "def estimate_temperature(age):\n",
    "    # Model param[0] is the intercepts and param[1] is the slope\n",
    "    return age * model.params[1] + model.params[0]\n",
    "\n",
    "print(\"Estimate temperature from age\")\n",
    "print(estimate_temperature(age=0))"
   ]
  },
  {
   "cell_type": "code",
   "execution_count": null,
   "metadata": {},
   "outputs": [],
   "source": [
    "#Train a multiple linear regression model\n",
    "import pandas\n",
    "!pip install statsmodels\n",
    "!wget https://raw.githubusercontent.com/MicrosoftDocs/mslearn-introduction-to-machine-learning/main/graphing.py\n",
    "!wget https://raw.githubusercontent.com/MicrosoftDocs/mslearn-introduction-to-machine-learning/main/Data/doggy-illness.csv\n",
    "\n",
    "#Import the data from the .csv file\n",
    "dataset = pandas.read_csv('doggy-illness.csv', delimiter=\"\\t\")\n",
    "\n",
    "#Let's have a look at the data\n",
    "dataset"
   ]
  },
  {
   "cell_type": "code",
   "execution_count": null,
   "metadata": {},
   "outputs": [],
   "source": [
    "import graphing # Custom graphing code that uses Plotly. See our GitHub repository for details\n",
    "\n",
    "graphing.box_and_whisker(dataset, \"male\", \"core_temperature\", show=True)\n",
    "graphing.box_and_whisker(dataset, \"attended_training\", \"core_temperature\", show=True)\n",
    "graphing.box_and_whisker(dataset, \"ate_at_tonys_steakhouse\", \"core_temperature\", show=True)\n",
    "graphing.scatter_2D(dataset, \"body_fat_percentage\", \"core_temperature\", show=True)\n",
    "graphing.scatter_2D(dataset, \"protein_content_of_last_meal\", \"core_temperature\", show=True)\n",
    "graphing.scatter_2D(dataset, \"age\", \"core_temperature\")"
   ]
  },
  {
   "cell_type": "code",
   "execution_count": null,
   "metadata": {},
   "outputs": [],
   "source": [
    "import statsmodels.formula.api as smf\n",
    "import graphing # custom graphing code. See our GitHub repo for details\n",
    "\n",
    "for feature in [\"male\", \"age\", \"protein_content_of_last_meal\", \"body_fat_percentage\"]:\n",
    "    # Perform linear regression. This method takes care of\n",
    "    # the entire fitting procedure for us.\n",
    "    formula = \"core_temperature ~ \" + feature\n",
    "    simple_model = smf.ols(formula = formula, data = dataset).fit()\n",
    "\n",
    "    print(feature)\n",
    "    print(\"R-squared:\", simple_model.rsquared)\n",
    "    \n",
    "    # Show a graph of the result\n",
    "    graphing.scatter_2D(dataset, label_x=feature, \n",
    "                                 label_y=\"core_temperature\",\n",
    "                                 title = feature,\n",
    "                                 trendline=lambda x: simple_model.params[1] * x + simple_model.params[0],\n",
    "                                 show=True)"
   ]
  },
  {
   "cell_type": "code",
   "execution_count": null,
   "metadata": {},
   "outputs": [],
   "source": [
    "formula = \"core_temperature ~ age\"\n",
    "age_trained_model = smf.ols(formula = formula, data = dataset).fit()\n",
    "age_naive_model = smf.ols(formula = formula, data = dataset).fit()\n",
    "age_naive_model.params[0] = dataset['core_temperature'].mean()\n",
    "age_naive_model.params[1] = 0\n",
    "\n",
    "print(\"naive R-squared:\", age_naive_model.rsquared)\n",
    "print(\"trained R-squared:\", age_trained_model.rsquared)\n",
    "\n",
    "# Show a graph of the result\n",
    "graphing.scatter_2D(dataset, label_x=\"age\", \n",
    "                                label_y=\"core_temperature\",\n",
    "                                title = \"Naive model\",\n",
    "                                trendline=lambda x: dataset['core_temperature'].repeat(len(x)), \n",
    "                                show=True)\n",
    "# Show a graph of the result\n",
    "graphing.scatter_2D(dataset, label_x=\"age\", \n",
    "                                label_y=\"core_temperature\",\n",
    "                                title = \"Trained model\",\n",
    "                                trendline=lambda x: age_trained_model.params[1] * x + age_trained_model.params[0])\n",
    "\n"
   ]
  },
  {
   "cell_type": "code",
   "execution_count": null,
   "metadata": {},
   "outputs": [],
   "source": [
    "model = smf.ols(formula = \"core_temperature ~ age + male\", data = dataset).fit()\n",
    "\n",
    "print(\"R-squared:\", model.rsquared)"
   ]
  },
  {
   "cell_type": "code",
   "execution_count": null,
   "metadata": {},
   "outputs": [],
   "source": [
    "import numpy as np\n",
    "# Show a graph of the result\n",
    "# this needs to be 3D, because we now have three variables in play: two features and one label\n",
    "\n",
    "def predict(age, male):\n",
    "    '''\n",
    "    This converts given age and male values into a prediction from the model\n",
    "    '''\n",
    "    # to make a prediction with statsmodels, we need to provide a dataframe\n",
    "    # so create a dataframe with just the age and male variables\n",
    "    df = pandas.DataFrame(dict(age=[age], male=[male]))\n",
    "    return model.predict(df)\n",
    "\n",
    "# Create the surface graph\n",
    "fig = graphing.surface(\n",
    "    x_values=np.array([min(dataset.age), max(dataset.age)]),\n",
    "    y_values=np.array([0, 1]),\n",
    "    calc_z=predict,\n",
    "    axis_title_x=\"Age\",\n",
    "    axis_title_y=\"Male\",\n",
    "    axis_title_z=\"Core temperature\"\n",
    ")\n",
    "\n",
    "# Add our datapoints to it and display\n",
    "fig.add_scatter3d(x=dataset.age, y=dataset.male, z=dataset.core_temperature, mode='markers')\n",
    "fig.show()"
   ]
  },
  {
   "cell_type": "code",
   "execution_count": null,
   "metadata": {},
   "outputs": [],
   "source": [
    "# Print summary information\n",
    "model.summary()"
   ]
  },
  {
   "cell_type": "code",
   "execution_count": null,
   "metadata": {},
   "outputs": [],
   "source": [
    "age_trained_model.summary()"
   ]
  },
  {
   "cell_type": "code",
   "execution_count": null,
   "metadata": {},
   "outputs": [],
   "source": [
    "import pandas\n",
    "!pip install statsmodels\n",
    "!wget https://raw.githubusercontent.com/MicrosoftDocs/mslearn-introduction-to-machine-learning/main/graphing.py\n",
    "!wget https://raw.githubusercontent.com/MicrosoftDocs/mslearn-introduction-to-machine-learning/main/Data/doggy-illness.csv\n",
    "\n",
    "#Import the data from the .csv file\n",
    "dataset = pandas.read_csv('doggy-illness.csv', delimiter=\"\\t\")\n",
    "\n",
    "#Let's have a look at the data\n",
    "dataset"
   ]
  },
  {
   "cell_type": "code",
   "execution_count": null,
   "metadata": {},
   "outputs": [],
   "source": [
    "import statsmodels.formula.api as smf\n",
    "import graphing # custom graphing code. See our GitHub repo for details\n",
    "\n",
    "# Perform linear regression. This method takes care of\n",
    "# the entire fitting procedure for us.\n",
    "simple_formula = \"core_temperature ~ protein_content_of_last_meal\"\n",
    "simple_model = smf.ols(formula = simple_formula, data = dataset).fit()\n",
    "\n",
    "# Show a graph of the result\n",
    "graphing.scatter_2D(dataset, label_x=\"protein_content_of_last_meal\", \n",
    "                             label_y=\"core_temperature\",\n",
    "                             trendline=lambda x: simple_model.params[1] * x + simple_model.params[0])\n"
   ]
  },
  {
   "cell_type": "code",
   "execution_count": null,
   "metadata": {},
   "outputs": [],
   "source": [
    "print(\"R-squared:\", simple_model.rsquared)"
   ]
  },
  {
   "cell_type": "code",
   "execution_count": null,
   "metadata": {},
   "outputs": [],
   "source": [
    "# Perform polynomial regression. This method takes care of\n",
    "# the entire fitting procedure for us.\n",
    "polynomial_formula = \"core_temperature ~ protein_content_of_last_meal + I(protein_content_of_last_meal**2)\"\n",
    "polynomial_model = smf.ols(formula = polynomial_formula, data = dataset).fit()\n",
    "\n",
    "# Show a graph of the result\n",
    "graphing.scatter_2D(dataset, label_x=\"protein_content_of_last_meal\", \n",
    "                             label_y=\"core_temperature\",\n",
    "                             # Our trendline is the equation for the polynomial\n",
    "                             trendline=lambda x: polynomial_model.params[2] * x**2 + polynomial_model.params[1] * x + polynomial_model.params[0])\n"
   ]
  },
  {
   "cell_type": "code",
   "execution_count": null,
   "metadata": {},
   "outputs": [],
   "source": [
    "print(\"R-squared:\", polynomial_model.rsquared)"
   ]
  },
  {
   "cell_type": "code",
   "execution_count": null,
   "metadata": {},
   "outputs": [],
   "source": [
    "import numpy as np\n",
    "fig = graphing.surface(\n",
    "    x_values=np.array([min(dataset.protein_content_of_last_meal), max(dataset.protein_content_of_last_meal)]),\n",
    "    y_values=np.array([min(dataset.protein_content_of_last_meal)**2, max(dataset.protein_content_of_last_meal)**2]),\n",
    "    calc_z=lambda x,y: polynomial_model.params[0] + (polynomial_model.params[1] * x) + (polynomial_model.params[2] * y),\n",
    "    axis_title_x=\"x\",\n",
    "    axis_title_y=\"x2\",\n",
    "    axis_title_z=\"Core temperature\"\n",
    ")\n",
    "# Add our datapoints to it and display\n",
    "fig.add_scatter3d(x=dataset.protein_content_of_last_meal, y=dataset.protein_content_of_last_meal**2, z=dataset.core_temperature, mode='markers')\n",
    "fig.show()"
   ]
  },
  {
   "cell_type": "code",
   "execution_count": null,
   "metadata": {},
   "outputs": [],
   "source": [
    "# Show an extrapolated graph of the linear model\n",
    "graphing.scatter_2D(dataset, label_x=\"protein_content_of_last_meal\", \n",
    "                             label_y=\"core_temperature\",\n",
    "                             # We extrapolate over the following range\n",
    "                             x_range = [0,100],\n",
    "                             trendline=lambda x: simple_model.params[1] * x + simple_model.params[0])\n"
   ]
  },
  {
   "cell_type": "code",
   "execution_count": null,
   "metadata": {},
   "outputs": [],
   "source": [
    "# Show an extrapolated graph of the polynomial model\n",
    "graphing.scatter_2D(dataset, label_x=\"protein_content_of_last_meal\", \n",
    "                             label_y=\"core_temperature\",\n",
    "                             # We extrapolate over the following range\n",
    "                             x_range = [0,100],\n",
    "                             trendline=lambda x: polynomial_model.params[2] * x**2 + polynomial_model.params[1] * x + polynomial_model.params[0])\n"
   ]
  },
  {
   "cell_type": "code",
   "execution_count": null,
   "metadata": {},
   "outputs": [],
   "source": []
  }
 ],
 "metadata": {
  "kernelspec": {
   "display_name": "Python 3",
   "language": "python",
   "name": "python3"
  },
  "language_info": {
   "codemirror_mode": {
    "name": "ipython",
    "version": 3
   },
   "file_extension": ".py",
   "mimetype": "text/x-python",
   "name": "python",
   "nbconvert_exporter": "python",
   "pygments_lexer": "ipython3",
   "version": "3.10.6"
  },
  "orig_nbformat": 4
 },
 "nbformat": 4,
 "nbformat_minor": 2
}
